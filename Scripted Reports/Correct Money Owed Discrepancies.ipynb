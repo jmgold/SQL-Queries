{
 "cells": [
  {
   "cell_type": "code",
   "execution_count": null,
   "metadata": {},
   "outputs": [],
   "source": [
    "import requests\n",
    "import json\n",
    "import psycopg2\n",
    "import configparser\n",
    "import sierra-ils-utils"
   ]
  },
  {
   "cell_type": "code",
   "execution_count": null,
   "metadata": {},
   "outputs": [],
   "source": [
    "config = configparser.ConfigParser()\n",
    "config.read('Y:\\\\SQL Reports\\\\creds\\\\api_info.ini')\n",
    "\n",
    "'''\n",
    ".ini file contains url/key/secret for the api in the following form\n",
    "[api]\n",
    "base_url = https://[local domain]/iii/sierra-api/v6\n",
    "client_key = [enter Sierra API key]\n",
    "client_secret = [enter Sierra API secret]\n",
    "'''\n",
    "\n",
    "base_url = config['api']['base_url'] + '/'\n",
    "#note sierra-ils-utils assumes base_url contains the trailing /, which the file I have been using did not contain so it is appended here\n",
    "client_key = config['api']['client_key']\n",
    "client_secret = config['api']['client_secret']\n",
    "\n",
    "sierra_api = sierra_ils_utils.SierraAPI(base_url,client_key,client_secret)\n",
    "sierra_api.get('info/token')"
   ]
  },
  {
   "cell_type": "code",
   "execution_count": null,
   "metadata": {},
   "outputs": [],
   "source": [
    "def runquery(query):\n",
    "    config = configparser.ConfigParser()\n",
    "    config.read('Y:\\\\SQL Reports\\\\creds\\\\api_info.ini')\n",
    "    \n",
    "    try:\n",
    "\t    conn = psycopg2.connect( config['api']['connection_string'] )\n",
    "    except:\n",
    "        print(\"unable to connect to the database\")\n",
    "        clear_connection()\n",
    "        return\n",
    "        \n",
    "    cursor = conn.cursor()\n",
    "    cursor.execute(query)\n",
    "    rows = cursor.fetchall()\n",
    "    return rows"
   ]
  },
  {
   "cell_type": "code",
   "execution_count": null,
   "metadata": {},
   "outputs": [],
   "source": [
    "def manual_charge(patron_id,amount,location):\n",
    "    config = configparser.ConfigParser()\n",
    "    config.read('C:\\\\SQL Reports\\\\creds\\\\api_info.ini')\n",
    "    token = get_token()\n",
    "    url = base_url + \"/patrons/\" + patron_id + \"/fines/charge\"\n",
    "    params = {\"amount\": amount, \"reason\": \"Residual fine\",\"location\": location}\n",
    "    request = sierra_api.session.put(url, params)\n",
    "\n",
    "def clear_fine(patron_id,invoiceNumber):\n",
    "    config = configparser.ConfigParser()\n",
    "    config.read('C:\\\\SQL Reports\\\\creds\\\\api_info.ini')\n",
    "    token = get_token()\n",
    "    url = base_url + \"/patrons/\" + patron_id + \"/fines/payment\"\n",
    "    params = {\"payments\": [{\"amount\": 0, \"paymentType\": 2, \"invoiceNumber\": \"\" + invoiceNumber + \"\"}]}\n",
    "    request = sierra_api.session.put(url, params)"
   ]
  },
  {
   "cell_type": "code",
   "execution_count": null,
   "metadata": {},
   "outputs": [],
   "source": [
    "error_query = \"\"\"\\\n",
    "    SELECT\n",
    "      rm.record_num,\n",
    "      (p.owed_amt * 100 - (SUM(COALESCE(f.item_charge_amt*100, 0) + COALESCE(f.processing_fee_amt*100, 0) + COALESCE(f.billing_fee_amt*100, 0) - COALESCE(f.paid_amt*100, 0))))::INT AS FineDiscrepancy,\n",
    "      p.home_library_code AS location\n",
    "    FROM sierra_view.record_metadata rm\n",
    "    JOIN sierra_view.patron_record \n",
    "      ON p.id = rm.id\n",
    "    LEFT JOIN sierra_view.fine f\n",
    "      ON f.patron_record_id = p.id\n",
    "\n",
    "    GROUP BY rm.record_num, p.owed_amt,3\n",
    "    HAVING p.owed_amt != SUM(COALESCE(f.item_charge_amt, 0.00) + COALESCE(f.processing_fee_amt, 0.00) + COALESCE(f.billing_fee_amt, 0.00) - COALESCE(f.paid_amt, 0.00))\n",
    "    \"\"\"\n",
    "    \n",
    "manual_charge_query = \"\"\"\\\n",
    "    SELECT\n",
    "      rm.record_num,\n",
    "      f.invoice_num::varchar\n",
    "    FROM sierra_view.fine f\n",
    "    JOIN sierra_view.record_metadata rm\n",
    "        ON f.patron_record_id = rm.id\n",
    "    WHERE f.assessed_gmt::DATE = CURRENT_DATE\n",
    "        AND f.charge_code = '1'\n",
    "        AND f.description = 'Residual fine' \n",
    "    \"\"\"\n",
    "    \n",
    "#identify patrons with amt owed errors and create manual charges in the amount of those discrepancies\n",
    "amt_owed_errors = runquery(error_query)\n",
    "for rownum, row in enumerate(amt_owed_errors):\n",
    "    manual_charge(str(row[0]),row[1],row[2])\n",
    "\n",
    "#Find the newly created manual charges and waive them\n",
    "fines_to_clear = runquery(manual_charge_query)\n",
    "for rownum, row in enumerate(fines_to_clear):\n",
    "    clear_fine(str(row[0]),row[1])         "
   ]
  }
 ],
 "metadata": {
  "kernelspec": {
   "display_name": "simian",
   "language": "python",
   "name": "python3"
  },
  "language_info": {
   "name": "python",
   "version": "3.8.16"
  }
 },
 "nbformat": 4,
 "nbformat_minor": 2
}
